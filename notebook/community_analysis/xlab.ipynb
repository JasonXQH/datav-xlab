{
 "cells": [
  {
   "cell_type": "code",
   "execution_count": null,
   "metadata": {},
   "outputs": [
    {
     "ename": "",
     "evalue": "",
     "output_type": "error",
     "traceback": [
      "\u001b[1;31mFailed to start the Kernel. \n",
      "\u001b[1;31minternal/modules/cjs/loader.js:717\n",
      "\u001b[1;31m  return process.dlopen(module, path.toNamespacedPath(filename));\n",
      "\u001b[1;31m                 ^\n",
      "\u001b[1;31m\n",
      "\u001b[1;31mError: dlopen(/opt/homebrew/lib/node_modules/ijavascript/node_modules/zeromq/build/Release/zmq.node, 0x0001): tried: '/opt/homebrew/lib/node_modules/ijavascript/node_modules/zeromq/build/Release/zmq.node' (mach-o file, but is an incompatible architecture (have (arm64), need (x86_64)))\n",
      "\u001b[1;31m    at Object.Module._extensions..node (internal/modules/cjs/loader.js:717:18)\n",
      "\u001b[1;31m    at Module.load (internal/modules/cjs/loader.js:598:32)\n",
      "\u001b[1;31m    at tryModuleLoad (internal/modules/cjs/loader.js:537:12)\n",
      "\u001b[1;31m    at Function.Module._load (internal/modules/cjs/loader.js:529:3)\n",
      "\u001b[1;31m    at Module.require (internal/modules/cjs/loader.js:636:17)\n",
      "\u001b[1;31m    at require (internal/modules/cjs/helpers.js:20:18)\n",
      "\u001b[1;31m    at load (/opt/homebrew/lib/node_modules/ijavascript/node_modules/node-gyp-build/index.js:22:10)\n",
      "\u001b[1;31m    at Object.<anonymous> (/opt/homebrew/lib/node_modules/ijavascript/node_modules/zeromq/binding.js:1:105)\n",
      "\u001b[1;31m    at Module._compile (internal/modules/cjs/loader.js:688:30)\n",
      "\u001b[1;31m    at Object.Module._extensions..js (internal/modules/cjs/loader.js:699:10). \n",
      "View Jupyter <a href='command:jupyter.viewOutput'>log</a> for further details."
     ]
    }
   ],
   "source": [
    "var openDigger = require('../../src/open_digger');\n",
    "var now = new Date();\n",
    "var res = now.setMonth(now.getMonth() - 1); // handle new year\n",
    "var startYear = 2022, startMonth = 1, endYear = now.getFullYear(), endMonth = now.getMonth() + 1;\n",
    "var forEveryMonth = f => {\n",
    "    var index = 0;\n",
    "    for (var y = startYear; y <= endYear; y++)\n",
    "        for (var m = 1; m <= (y === endYear ? endMonth : startMonth); m++)\n",
    "            f(y, m, index++);\n",
    "};"
   ]
  },
  {
   "cell_type": "markdown",
   "metadata": {},
   "source": [
    "# X-lab Community Analysis Report\n",
    "\n",
    "This notebook is used to track the members active and influence status in X-lab community.\n",
    "\n",
    "The result can be used for community measurement and incentive.\n",
    "\n",
    "The start date for this report is 2022-01-01 and the end date is up-to-date."
   ]
  },
  {
   "cell_type": "markdown",
   "metadata": {},
   "source": [
    "## Overview\n",
    "\n",
    "This part is the history OpenRank trending of all projects in X-lab community."
   ]
  },
  {
   "cell_type": "code",
   "execution_count": 3,
   "metadata": {},
   "outputs": [
    {
     "ename": "SyntaxError",
     "evalue": "invalid syntax (<ipython-input-3-9b89d5409db0>, line 3)",
     "output_type": "error",
     "traceback": [
      "\u001b[0;36m  File \u001b[0;32m\"<ipython-input-3-9b89d5409db0>\"\u001b[0;36m, line \u001b[0;32m3\u001b[0m\n\u001b[0;31m    startYear, startMonth,\u001b[0m\n\u001b[0m             ^\u001b[0m\n\u001b[0;31mSyntaxError\u001b[0m\u001b[0;31m:\u001b[0m invalid syntax\n"
     ]
    }
   ],
   "source": [
    "openDigger.index.openrank.getRepoOpenrank({\n",
    "    labelUnion: [':communities/xlab'],\n",
    "    startYear, startMonth,\n",
    "    endYear, endMonth,\n",
    "    groupTimeRange: 'month', limit: -1,\n",
    "}).then(data => {\n",
    "    var x = [], v = [], g = []; g.push(0);\n",
    "    forEveryMonth((y, m, index) => {\n",
    "        var key = `Y${y}M${m}`;\n",
    "        x.push(key); v.push(0);\n",
    "        data.forEach(row => { v[index] += (row.open_rank[index] ? row.open_rank[index] : 0); row[key] = row.open_rank[index] ? row.open_rank[index] : 0; });\n",
    "        if (index > 0) g.push(Math.ceil((v[index]-v[index-1])*100/v[index-1]));\n",
    "    });\n",
    "    data.forEach(row => { delete row.open_rank; delete row.org; });\n",
    "    console.table(data);\n",
    "    openDigger.render.plotly([\n",
    "        { x, y: v, type: 'scatter', name: 'OpenRank' },\n",
    "        { x, y: g, type: 'bar', yaxis: 'y2', name: 'Growth'}\n",
    "    ], {\n",
    "        title: 'X-lab OpenRank trending',\n",
    "        yaxis2: { overlaying: 'y', side: 'right' }\n",
    "    });\n",
    "    fs.writeFileSync('all_data.json', JSON.stringify(data));\n",
    "});"
   ]
  },
  {
   "cell_type": "markdown",
   "metadata": {},
   "source": [
    "## OpenRank Distribution\n",
    "\n",
    "The OpenRank distribution for certain month is calculated by every repo with OpenRank in this month and all the developers' OpenRank in these repos in this month.\n",
    "\n",
    "The algorithm means:\n",
    "\n",
    "- If you contribute to a high OpenRank repo, your final OpenRank may higher.\n",
    "- If you contribute more in any repo, your final OpenRank may higher.\n",
    "- If you have a high OpenRank in a certain repo, make the repo's OpenRank higher, your OpenRank will be higher.\n",
    "\n",
    "So please contribute more and contribute to the important repos, or make your own repo important."
   ]
  },
  {
   "cell_type": "code",
   "execution_count": 2,
   "metadata": {},
   "outputs": [],
   "source": [
    "var calculateOpenRankDistribution = (y, m, base) => {\n",
    "    var actors = openDigger.label.getGitHubData([':communities/xlab']).githubUsers;\n",
    "    var key = `Y${y}M${m}`;\n",
    "    var repos = JSON.parse(fs.readFileSync('all_data.json').toString()).filter(row => row[key] > 0);\n",
    "    var actorOpenrankMap = new Map();\n",
    "    var actorLoginMap = new Map();\n",
    "    var repoArr = [];\n",
    "    actors.forEach(id => actorOpenrankMap.set(id, 0));\n",
    "    Promise.all(repos.map(r => {\n",
    "        return new Promise(resolve => {\n",
    "            var sql = `MATCH (u:User) WHERE apoc.any.property(u, 'open_rank_${r.id}_${y}${m}') > 0 RETURN u.id AS id, u.login AS login, apoc.any.property(u, 'open_rank_${r.id}_${y}${m}') AS openrank`;\n",
    "            openDigger.driver.neo4j.query(sql).then(data => {\n",
    "                var total = 0;\n",
    "                var devs = [];\n",
    "                data.forEach(item => total += item.openrank);\n",
    "                data.filter(item => actors.includes(item.id)).forEach(item => {\n",
    "                    actorLoginMap.set(item.id, item.login);\n",
    "                    var openrank = item.openrank / total;\n",
    "                    actorOpenrankMap.set(item.id, actorOpenrankMap.get(item.id) + r[key] * openrank);\n",
    "                    devs.push({login: item.login, openrank });\n",
    "                });\n",
    "                if (devs.length > 0)\n",
    "                    repoArr.push({ name: r.repo_name, openrank: r[key], devs: devs.sort((a, b) => b.openrank - a.openrank).map(i => `${i.login}(${(i.openrank*100).toFixed(2)}%)`).join(',')});\n",
    "                resolve();\n",
    "            });\n",
    "        });\n",
    "    })).then(() => {\n",
    "        var arr = [];\n",
    "        var total = 0;\n",
    "        for (var [ id, openrank ] of actorOpenrankMap.entries()) {\n",
    "            arr.push({login: actorLoginMap.get(id), openrank});\n",
    "            total += openrank;\n",
    "        }\n",
    "        repoArr.sort((a,b) => b.openrank - a.openrank).forEach(r => console.log(r.name, r.openrank, r.devs));\n",
    "        console.table(arr.map(i => { return { ...i, ratio: (i.openrank*100/total).toFixed(2) + '%', final: Math.round(i.openrank * base / total) } }).filter(i => i.login).sort((a, b) => b.openrank - a.openrank));\n",
    "    });\n",
    "};"
   ]
  },
  {
   "cell_type": "markdown",
   "metadata": {},
   "source": [
    "## The OpenRank distibution of 2022.6"
   ]
  },
  {
   "cell_type": "code",
   "execution_count": 12,
   "metadata": {},
   "outputs": [
    {
     "name": "stdout",
     "output_type": "stream",
     "text": [
      "X-lab2017/OSSDevGov2022 13.25 bifenglin(3.65%)\n",
      "X-lab2017/open-research 5.65 will-ww(32.92%),birdflyi(19.79%),xiaoya-yaya(11.29%),frank-zsy(5.43%),bifenglin(5.25%),kongzhongsanbu(3.83%),tyn1998(2.26%),wengzhenjie(1.81%),gymgym1212(1.10%)\n",
      "X-lab2017/open-digger 5.07 frank-zsy(57.63%),xiaoya-yaya(8.39%),xgdyp(1.47%),tyn1998(1.21%),bifenglin(1.21%),gymgym1212(1.06%),chunchill(0.89%),zhicheng-ning(0.89%),soobun(0.89%),wangleo61(0.89%),wengzhenjie(0.89%),kongzhongsanbu(0.89%),birdflyi(0.89%)\n",
      "hypertrons/hypertrons-crx 4.17 tyn1998(59.84%),zhicheng-ning(4.78%),xgdyp(3.80%),frank-zsy(3.27%),will-ww(1.02%)\n",
      "X-lab2017/open-wonderland 2.43 will-ww(32.77%),soobun(21.32%),xiaoya-yaya(14.61%),tyn1998(7.63%),zhicheng-ning(7.47%),gymgym1212(6.43%),xgdyp(3.65%)\n",
      "X-lab2017/2022-SocialComputing 2.4 bifenglin(40.96%)\n",
      "X-lab2017/DesignThinking-LeanStartup 2.3 zhicheng-ning(31.73%),tyn1998(19.69%),will-ww(5.14%)\n",
      "X-lab2017/open-leaderboard 1.9 gymgym1212(78.64%),will-ww(11.31%),tyn1998(2.93%),frank-zsy(2.13%)\n",
      "X-lab2017/open-perf 0.96 bifenglin(41.57%),will-ww(40.50%),frank-zsy(17.92%)\n",
      "X-lab2017/X-lab-website 0.5 zhicheng-ning(100.00%)\n",
      "X-lab2017/X-lab2017.github.io 0.42 will-ww(100.00%)\n",
      "hypertrons/hypertrons-wonderland 0.19 tyn1998(100.00%)\n",
      "┌─────────┬──────────────────┬─────────────────────┬──────────┬───────┐\n",
      "│ (index) │      login       │      openrank       │  ratio   │ final │\n",
      "├─────────┼──────────────────┼─────────────────────┼──────────┼───────┤\n",
      "│    0    │    'will-ww'     │ 3.8405805107413378  │ '18.65%' │ 1865  │\n",
      "│    1    │   'frank-zsy'    │ 3.5777209935577297  │ '17.37%' │ 1737  │\n",
      "│    2    │    'tyn1998'     │ 3.5682719827321567  │ '17.32%' │ 1732  │\n",
      "│    3    │   'bifenglin'    │  2.223725143360609  │ '10.80%' │ 1080  │\n",
      "│    4    │   'gymgym1212'   │ 1.7665771078913366  │ '8.58%'  │  858  │\n",
      "│    5    │ 'zhicheng-ning'  │ 1.6555147407001551  │ '8.04%'  │  804  │\n",
      "│    6    │  'xiaoya-yaya'   │  1.418323543521848  │ '6.89%'  │  689  │\n",
      "│    7    │    'birdflyi'    │ 1.1629703816290817  │ '5.65%'  │  565  │\n",
      "│    8    │     'soobun'     │  0.563166185899672  │ '2.73%'  │  273  │\n",
      "│    9    │     'xgdyp'      │ 0.32136026414722374 │ '1.56%'  │  156  │\n",
      "│   10    │ 'kongzhongsanbu' │ 0.2614452789083444  │ '1.27%'  │  127  │\n",
      "│   11    │  'wengzhenjie'   │ 0.14729012004024614 │ '0.72%'  │  72   │\n",
      "│   12    │   'wangleo61'    │ 0.04507666010103705 │ '0.22%'  │  22   │\n",
      "│   13    │   'chunchill'    │ 0.04507666010103705 │ '0.22%'  │  22   │\n",
      "└─────────┴──────────────────┴─────────────────────┴──────────┴───────┘\n"
     ]
    }
   ],
   "source": [
    "calculateOpenRankDistribution(2022, 6, 10000);"
   ]
  },
  {
   "cell_type": "code",
   "execution_count": 27,
   "metadata": {},
   "outputs": [
    {
     "name": "stdout",
     "output_type": "stream",
     "text": [
      "X-lab2017/OSSDevGov2022 13.7 zhuxiangning(58.05%),will-ww(8.51%)\n",
      "X-lab2017/open-digger 9.17 frank-zsy(55.89%),yoyo-wu98(8.35%),longyanz(4.75%),xiaoya-yaya(3.26%),zhuxiangning(2.03%),xgdyp(0.70%),zhicheng-ning(0.51%)\n",
      "hypertrons/hypertrons-crx 8.18 tyn1998(62.19%),xgdyp(3.92%),zhicheng-ning(3.41%),will-ww(1.21%),frank-zsy(1.11%)\n",
      "X-lab2017/open-wonderland 5.46 will-ww(34.78%),bifenglin(17.46%),xiaoya-yaya(5.91%),frank-zsy(4.62%),kongzhongsanbu(4.05%),wangleo61(3.96%),yoyo-wu98(3.60%),birdflyi(3.60%),longyanz(2.92%),tyn1998(2.35%),zhicheng-ning(2.33%),xgdyp(2.20%),gymgym1212(1.15%)\n",
      "X-lab2017/DesignThinking-LeanStartup 4.3 zhicheng-ning(26.27%),tyn1998(16.13%),will-ww(8.61%),soobun(5.78%)\n",
      "X-lab2017/open-research 3.71 will-ww(29.88%),bifenglin(29.23%),yoyo-wu98(10.80%),xgdyp(4.70%)\n",
      "X-lab2017/open-leaderboard 1.97 gymgym1212(69.02%),will-ww(30.98%)\n",
      "X-lab2017/oss101-awesome-list 1.17 bifenglin(45.72%),zhicheng-ning(30.82%),will-ww(23.46%)\n",
      "X-lab2017/X-lab-website 0.78 zhicheng-ning(80.44%),tyn1998(13.15%),will-ww(6.41%)\n",
      "X-lab2017/open-perf 0.48 bifenglin(58.92%),will-ww(41.08%)\n",
      "X-lab2017/DaseDevops 0.41 zhicheng-ning(100.00%)\n",
      "┌─────────┬──────────────────┬─────────────────────┬──────────┬───────┐\n",
      "│ (index) │      login       │      openrank       │  ratio   │ final │\n",
      "├─────────┼──────────────────┼─────────────────────┼──────────┼───────┤\n",
      "│    0    │  'zhuxiangning'  │  8.13927443967445   │ '22.12%' │ 2212  │\n",
      "│    1    │    'tyn1998'     │  6.011430687307045  │ '16.34%' │ 1634  │\n",
      "│    2    │    'will-ww'     │ 5.7754952468374166  │ '15.70%' │ 1570  │\n",
      "│    3    │   'frank-zsy'    │ 5.4684413334167195  │ '14.86%' │ 1486  │\n",
      "│    4    │ 'zhicheng-ning'  │ 2.9801899357319033  │ '8.10%'  │  810  │\n",
      "│    5    │   'bifenglin'    │ 2.8558359833689457  │ '7.76%'  │  776  │\n",
      "│    6    │   'gymgym1212'   │  1.422699645615197  │ '3.87%'  │  387  │\n",
      "│    7    │   'yoyo-wu98'    │ 1.3633262341047705  │ '3.71%'  │  371  │\n",
      "│    8    │     'xgdyp'      │ 0.6799712643461244  │ '1.85%'  │  185  │\n",
      "│    9    │  'xiaoya-yaya'   │ 0.6216016106234068  │ '1.69%'  │  169  │\n",
      "│   10    │    'longyanz'    │  0.595046683923457  │ '1.62%'  │  162  │\n",
      "│   11    │     'soobun'     │ 0.24836322499959382 │ '0.67%'  │  67   │\n",
      "│   12    │ 'kongzhongsanbu' │ 0.22096952109279727 │ '0.60%'  │  60   │\n",
      "│   13    │   'wangleo61'    │ 0.2160621271564356  │ '0.59%'  │  59   │\n",
      "│   14    │    'birdflyi'    │ 0.1966163137826986  │ '0.53%'  │  53   │\n",
      "└─────────┴──────────────────┴─────────────────────┴──────────┴───────┘\n"
     ]
    }
   ],
   "source": [
    "calculateOpenRankDistribution(2022, 7, 10000);"
   ]
  },
  {
   "cell_type": "code",
   "execution_count": 3,
   "metadata": {},
   "outputs": [
    {
     "name": "stdout",
     "output_type": "stream",
     "text": [
      "X-lab2017/open-digger 8.53 frank-zsy(46.91%),xiaoya-yaya(6.74%),longyanz(5.87%)\n",
      "X-lab2017/open-wonderland 6.82 xiaoya-yaya(24.84%),will-ww(18.48%),bifenglin(12.57%),tyn1998(8.48%),zhicheng-ning(8.48%),birdflyi(4.91%),xgdyp(3.44%),wangleo61(2.82%)\n",
      "hypertrons/hypertrons-crx 6.19 tyn1998(34.64%),frank-zsy(2.79%)\n",
      "X-lab2017/DesignThinking-LeanStartup 2.97 zhicheng-ning(31.56%),longyanz(11.26%)\n",
      "X-lab2017/oss101-awesome-list 2.8 bifenglin(36.12%),zhicheng-ning(13.39%),will-ww(11.44%)\n",
      "X-lab2017/open-perf 0.71 will-ww(70.46%),bifenglin(29.54%)\n",
      "┌─────────┬─────────────────┬─────────────────────┬──────────┬───────┐\n",
      "│ (index) │      login      │      openrank       │  ratio   │ final │\n",
      "├─────────┼─────────────────┼─────────────────────┼──────────┼───────┤\n",
      "│    0    │   'frank-zsy'   │  4.17400838977852   │ '24.83%' │ 2483  │\n",
      "│    1    │    'tyn1998'    │  2.722802514916304  │ '16.19%' │ 1619  │\n",
      "│    2    │  'xiaoya-yaya'  │ 2.2693837140507602  │ '13.50%' │ 1350  │\n",
      "│    3    │    'will-ww'    │  2.081250890619316  │ '12.38%' │ 1238  │\n",
      "│    4    │   'bifenglin'   │  2.078785807907775  │ '12.36%' │ 1236  │\n",
      "│    5    │ 'zhicheng-ning' │ 1.8902925424508132  │ '11.24%' │ 1124  │\n",
      "│    6    │   'longyanz'    │ 0.8351517942969846  │ '4.97%'  │  497  │\n",
      "│    7    │   'birdflyi'    │ 0.3347147978756443  │ '1.99%'  │  199  │\n",
      "│    8    │     'xgdyp'     │ 0.23441217276142606 │ '1.39%'  │  139  │\n",
      "│    9    │   'wangleo61'   │ 0.19216873884442165 │ '1.14%'  │  114  │\n",
      "└─────────┴─────────────────┴─────────────────────┴──────────┴───────┘\n"
     ]
    }
   ],
   "source": [
    "calculateOpenRankDistribution(2022, 8, 10000);"
   ]
  },
  {
   "cell_type": "code",
   "execution_count": null,
   "metadata": {},
   "outputs": [],
   "source": []
  }
 ],
 "metadata": {
  "kernelspec": {
   "display_name": "JavaScript (Node.js)",
   "language": "javascript",
   "name": "javascript"
  },
  "language_info": {
   "codemirror_mode": {
    "name": "ipython",
    "version": 3
   },
   "file_extension": ".py",
   "mimetype": "text/x-python",
   "name": "javascript",
   "nbconvert_exporter": "python",
   "pygments_lexer": "ipython3",
   "version": "3.8.5"
  },
  "toc": {
   "base_numbering": 1,
   "nav_menu": {},
   "number_sections": true,
   "sideBar": true,
   "skip_h1_title": false,
   "title_cell": "Table of Contents",
   "title_sidebar": "Contents",
   "toc_cell": false,
   "toc_position": {},
   "toc_section_display": true,
   "toc_window_display": false
  },
  "vscode": {
   "interpreter": {
    "hash": "6aa50354bebef10a5e75472f0abf64b633bb88916c100c6671e897ed61d3afe9"
   }
  }
 },
 "nbformat": 4,
 "nbformat_minor": 5
}
